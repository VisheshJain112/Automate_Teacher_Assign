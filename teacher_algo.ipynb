{
  "nbformat": 4,
  "nbformat_minor": 0,
  "metadata": {
    "colab": {
      "name": "teacher_algo.ipynb",
      "provenance": [],
      "authorship_tag": "ABX9TyMQSQ2NTbR/5EuFu1wZk0Lw",
      "include_colab_link": true
    },
    "kernelspec": {
      "name": "python3",
      "display_name": "Python 3"
    }
  },
  "cells": [
    {
      "cell_type": "markdown",
      "metadata": {
        "id": "view-in-github",
        "colab_type": "text"
      },
      "source": [
        "<a href=\"https://colab.research.google.com/github/VisheshJain112/Automate_Teacher_Assign/blob/master/teacher_algo.ipynb\" target=\"_parent\"><img src=\"https://colab.research.google.com/assets/colab-badge.svg\" alt=\"Open In Colab\"/></a>"
      ]
    },
    {
      "cell_type": "code",
      "metadata": {
        "id": "TxjuW5jvJegx",
        "colab_type": "code",
        "colab": {}
      },
      "source": [
        "import numpy as np\n",
        "import random\n",
        "import string\n",
        "time_slots={}\n",
        "def get_random_string(length):\n",
        "    letters = string.ascii_lowercase\n",
        "    result_str = ''.join(random.choice(letters) for i in range(length[0]))\n",
        "    return result_str\n",
        "\n",
        "for i in range(700):\n",
        "  time_slots[get_random_string(np.random.randint(6,10,1))]=np.random.randint(1,7,np.random.randint(0,5,1))"
      ],
      "execution_count": 311,
      "outputs": []
    },
    {
      "cell_type": "code",
      "metadata": {
        "id": "NMhhs9kpmkpr",
        "colab_type": "code",
        "colab": {
          "base_uri": "https://localhost:8080/",
          "height": 54
        },
        "outputId": "255f1d11-1f3d-4fa9-f9ec-77814c0e09df"
      },
      "source": [
        "print(time_slots)\n"
      ],
      "execution_count": 312,
      "outputs": [
        {
          "output_type": "stream",
          "text": [
            "{'zruedkye': array([5, 2, 1]), 'qrbktn': array([5, 6, 2]), 'yqvghfkby': array([2]), 'tolenjva': array([], dtype=int64), 'yrtfkjw': array([4, 5, 2, 3]), 'yovzfh': array([], dtype=int64), 'vxzupkhth': array([2, 1]), 'eezaovkbd': array([1, 5, 3, 5]), 'nypkcfp': array([6]), 'tomecs': array([3, 4, 6, 1]), 'julozcf': array([5, 1, 1]), 'kwkjtzua': array([3, 1]), 'dyombidje': array([], dtype=int64), 'fhgwmlhu': array([], dtype=int64), 'zsenhsz': array([5, 5]), 'mzylsjyqr': array([2, 6, 3, 4]), 'hgdbso': array([4, 6, 3]), 'ewqmkg': array([4, 6]), 'hgnzvfny': array([], dtype=int64), 'mlficefnw': array([3, 3, 6, 3]), 'cjoedlbl': array([], dtype=int64), 'agusdhhm': array([6, 3]), 'fmaflsblt': array([2]), 'jhpybujn': array([3, 6]), 'ytzbemaql': array([], dtype=int64), 'ubncve': array([2, 2]), 'mitfgbhi': array([4]), 'ussbbw': array([5, 2]), 'fgskmteom': array([4, 3]), 'dngwlfjoo': array([3, 5]), 'aunhnk': array([5, 2, 5, 6]), 'nkgwyybc': array([2]), 'ofawqna': array([6, 6, 3]), 'xywddbhuj': array([3]), 'nfyajiqof': array([], dtype=int64), 'yeujjhf': array([], dtype=int64), 'emjunhxin': array([3, 4]), 'taylhjiy': array([2, 6, 4]), 'edudlihwo': array([], dtype=int64), 'ltmvemrjq': array([4]), 'rjojyvo': array([5, 5]), 'gfnhsji': array([4]), 'totgaq': array([], dtype=int64), 'afmhyyotp': array([1]), 'qcnyjqirx': array([4, 1]), 'gozmfrp': array([5]), 'rftruntg': array([5, 4]), 'ojimwlbj': array([2]), 'pummlx': array([1, 2, 2]), 'jcnbjp': array([6, 3, 1, 6]), 'ijeuxyv': array([4, 1]), 'saihxenz': array([4]), 'xxyekpn': array([1, 5, 6]), 'dcaryc': array([3, 3, 6, 4]), 'ukfdwzjgq': array([2, 5, 6, 1]), 'msdbfyxxh': array([4, 2, 6, 6]), 'xrsikzdxh': array([], dtype=int64), 'xyyfxisvr': array([2, 2, 2]), 'wztepjxs': array([6]), 'cnuftu': array([], dtype=int64), 'oenmxrd': array([], dtype=int64), 'skfqobs': array([1]), 'ewjvyx': array([6, 1]), 'gxvyfgny': array([2, 6, 3]), 'ijhyobig': array([2, 1, 1]), 'rxwyltwp': array([1, 1, 1, 3]), 'ghthhcb': array([], dtype=int64), 'ytraktp': array([], dtype=int64), 'lnhruu': array([3, 2, 2]), 'bzccjz': array([6]), 'jefypsyg': array([4, 6]), 'mxjkhz': array([], dtype=int64), 'gmshvdni': array([1]), 'aikiexvh': array([6, 1, 3]), 'couunyry': array([3, 2, 4]), 'ooxjnumkr': array([6, 1, 4, 1]), 'rgggdodw': array([6, 4, 4, 2]), 'tpmahc': array([6, 2]), 'qvyjtirw': array([6, 6, 5]), 'xjirsq': array([], dtype=int64), 'bypcwiz': array([], dtype=int64), 'hwvhdvp': array([2, 6, 2, 1]), 'epkdmdkem': array([3, 1]), 'tbsdqfpa': array([1, 4, 5]), 'mioxokzy': array([2, 1, 4, 3]), 'otzcegk': array([6, 6]), 'dyynuujqi': array([5, 6, 2]), 'sqcjaxigd': array([4, 3]), 'sruodpt': array([2]), 'kecicub': array([], dtype=int64), 'vlxplzx': array([6]), 'kxlzxdwaq': array([], dtype=int64), 'sbwlwi': array([5, 4, 2]), 'vbvadmlj': array([3, 2, 4]), 'lqhohz': array([5, 2, 2]), 'tatndpbq': array([1]), 'zlzshfz': array([6, 5, 4, 3]), 'mypkya': array([2]), 'tixwxby': array([], dtype=int64), 'ybobhd': array([4, 3, 6]), 'piqxaeq': array([], dtype=int64), 'dqondc': array([4, 1]), 'pqbbwyvzc': array([1, 4, 4]), 'awkzai': array([5, 2]), 'riiccsf': array([], dtype=int64), 'ybfuaepjh': array([], dtype=int64), 'rymhps': array([6]), 'ouxzskmn': array([2, 1]), 'fljpserz': array([1, 4]), 'hamnhvqjd': array([3, 2, 2]), 'einnfpgqc': array([3, 3, 1]), 'iqeqcyrog': array([3, 5, 1]), 'fyoupdg': array([4, 6, 5]), 'vkmddaxpk': array([6, 6]), 'fsvvrst': array([3]), 'cdsltedi': array([5, 6]), 'gxwxhk': array([], dtype=int64), 'bxxclwj': array([3]), 'oxhptphi': array([6, 5, 1, 1]), 'loxmilfft': array([4, 5]), 'mixvaqqon': array([2, 4]), 'ssslvvchh': array([5, 4, 2]), 'mfczgfo': array([4, 3, 6, 6]), 'mwnefdo': array([], dtype=int64), 'vgfhmejh': array([2, 3, 5, 5]), 'linnrpso': array([], dtype=int64), 'kuabdqhl': array([4, 1, 1]), 'liphrfyg': array([4, 6]), 'ooyone': array([5]), 'naosunubs': array([2, 4]), 'xodatqjv': array([], dtype=int64), 'famqyqfz': array([3, 3]), 'dzgzxk': array([4, 6]), 'cslqkk': array([3, 2, 4]), 'zhmpjgdcl': array([1, 4]), 'ytxqttqwn': array([1]), 'yjyoke': array([6, 2, 1, 5]), 'gwkbepwjf': array([4, 4, 5, 2]), 'azotqn': array([4]), 'lathir': array([5]), 'jpmytqun': array([], dtype=int64), 'pwcdtd': array([1, 1]), 'udwtmag': array([4]), 'yzyuuw': array([6, 5, 4]), 'leoekvtue': array([1]), 'mcsvjllrf': array([6, 2, 3]), 'febthds': array([], dtype=int64), 'kjavsc': array([5, 1, 5, 6]), 'jkczgpq': array([5, 5, 1]), 'ulltxt': array([6, 5, 6]), 'gptzjydd': array([4]), 'zhjsivukq': array([5, 2]), 'vccpuye': array([2, 3, 6]), 'nkouneerw': array([], dtype=int64), 'ocgisnru': array([6, 6, 5]), 'hjxoas': array([4]), 'vhrugaxe': array([], dtype=int64), 'ibsmmwle': array([4, 4, 1]), 'oukjcvxp': array([6, 3, 3, 4]), 'aswsaede': array([], dtype=int64), 'gauhec': array([5, 6, 4]), 'fucqsxcwk': array([2, 6, 5]), 'bqcjpufv': array([2, 2, 1]), 'epdpaynb': array([], dtype=int64), 'zadmeamd': array([1]), 'npkfqbzt': array([], dtype=int64), 'muwnsqr': array([3]), 'iectgqqb': array([4]), 'arxoetyb': array([5, 6, 6]), 'xxfotqe': array([2, 2, 3, 3]), 'nojzlpt': array([], dtype=int64), 'fesgtcghk': array([6, 6, 3]), 'eurluzioq': array([1]), 'zmyhlcg': array([5]), 'fdzpuo': array([6, 6, 3]), 'svbhrp': array([4]), 'gypziytq': array([], dtype=int64), 'qfhysl': array([5, 1, 1]), 'aghvinkna': array([1, 3, 1]), 'wlnasncqv': array([], dtype=int64), 'kfcyaoed': array([], dtype=int64), 'zxnkemy': array([3]), 'ttccraubz': array([3, 4, 1, 6]), 'nfewwdziw': array([], dtype=int64), 'agfeypw': array([3, 6, 2, 1]), 'aijgioa': array([2, 1, 2]), 'igbldpfr': array([], dtype=int64), 'srnqhmr': array([1]), 'mtfnzjeaw': array([1]), 'vubclrlll': array([4]), 'tvwvszlhy': array([2, 6, 2]), 'vbuheeyf': array([4, 6]), 'qzsfsm': array([3, 2, 4, 1]), 'cyqnvmkw': array([4]), 'fpmthmt': array([], dtype=int64), 'wwmvdsr': array([], dtype=int64), 'jgkxcqoj': array([2]), 'lknbmy': array([5]), 'merclqp': array([], dtype=int64), 'aidvmvsde': array([4, 1]), 'qoalbxw': array([2]), 'nmqwedw': array([3, 2, 6, 1]), 'zodunqzso': array([], dtype=int64), 'tqspniuy': array([6, 5, 1]), 'rxldkj': array([5, 4, 6, 5]), 'rdldxxi': array([], dtype=int64), 'knkaiba': array([4, 2]), 'fffeacrf': array([], dtype=int64), 'ozmqswzza': array([2, 2]), 'tkmknl': array([1]), 'qedtsbo': array([3, 6]), 'jcpgmkhpv': array([6, 2, 4, 3]), 'yisdhsgk': array([5, 2]), 'pzbrils': array([4]), 'hkhqtgyp': array([], dtype=int64), 'wdxvlmbn': array([1, 6, 5]), 'ebivzxvlc': array([2]), 'qivimtlo': array([], dtype=int64), 'tqfnmoi': array([5, 1, 1]), 'usqzqet': array([], dtype=int64), 'qwoimv': array([4, 3, 4]), 'beqkelm': array([3, 2]), 'zaqnks': array([], dtype=int64), 'mvqobkjpc': array([], dtype=int64), 'hdprigpg': array([], dtype=int64), 'wlvbyh': array([5, 5]), 'pbvepm': array([1, 6, 1, 3]), 'rtbrwl': array([4]), 'xfkoyjpmn': array([5]), 'nzwfgk': array([6, 3, 6, 3]), 'kdveofm': array([2, 6, 3]), 'cnmrpspvd': array([6]), 'mxdoshhrq': array([2, 6]), 'dlselt': array([], dtype=int64), 'yigtmpxjn': array([6, 5]), 'hhvmmdbq': array([6]), 'vvrvtkx': array([4]), 'hlaepsw': array([6, 5]), 'hxbkclz': array([6, 3, 4]), 'cmmury': array([1]), 'jmsivbgi': array([6, 2, 2, 5]), 'caienketz': array([3]), 'njrgzicsz': array([6, 4, 6]), 'dwvqeycb': array([], dtype=int64), 'livddtxp': array([6, 3]), 'iiewevaa': array([5]), 'lvvgakqcx': array([2, 2]), 'uifzgez': array([5, 1]), 'hfikamwg': array([], dtype=int64), 'mqujpiqt': array([5, 4]), 'phmbjw': array([1, 3, 4, 1]), 'dvruyl': array([], dtype=int64), 'plcxbsbdi': array([3]), 'ukwqhd': array([6, 5]), 'oihzuayt': array([], dtype=int64), 'ynefadiw': array([2, 3, 1]), 'hyjgsj': array([4]), 'mdiyox': array([1, 6]), 'mmrebuupo': array([], dtype=int64), 'gfocko': array([], dtype=int64), 'naruas': array([5]), 'tyfruxnan': array([3, 2]), 'mpijnhsxe': array([5, 4, 4]), 'hqwand': array([2, 5, 4]), 'nnksqokjy': array([4, 5, 6, 4]), 'ektwhguf': array([], dtype=int64), 'hzkfcah': array([3]), 'vqyjim': array([1, 1, 4, 3]), 'gtutrpa': array([], dtype=int64), 'uhtdmvop': array([1, 2, 1, 6]), 'oyrmoubo': array([5]), 'etsettmc': array([], dtype=int64), 'psarst': array([2]), 'klloqzs': array([3, 3, 6, 5]), 'kpwclm': array([3]), 'ebsyfdsw': array([6]), 'tasdkmuvk': array([], dtype=int64), 'yupsqdpq': array([2, 1, 2, 6]), 'hufthhg': array([6]), 'ioymqpnvx': array([2, 4]), 'jzeihj': array([3, 2, 6, 4]), 'rqaomcn': array([], dtype=int64), 'quqwbr': array([], dtype=int64), 'yoltjshh': array([1, 3, 2, 4]), 'pixhbrawk': array([1]), 'qmyvio': array([5]), 'gmjtrtlij': array([5, 5]), 'gieahsbb': array([], dtype=int64), 'vmmdqcs': array([3, 3, 4]), 'fszlak': array([3, 3, 6, 3]), 'pugtduelb': array([1]), 'vygrvij': array([2]), 'uqcgcak': array([1, 6, 3]), 'hmltrf': array([2, 5, 3]), 'bheolw': array([4, 5, 2, 2]), 'jzzayq': array([4, 6]), 'nuhftpiwj': array([6, 1, 2]), 'xvooemgc': array([1, 5]), 'yiylicnh': array([6, 1]), 'ajzrvfc': array([4, 5]), 'kbwslx': array([3, 3, 2]), 'plxmuo': array([1, 6]), 'taafwc': array([2, 4]), 'ubroas': array([5, 1, 2, 1]), 'cuhcvrc': array([2, 2]), 'zvjeuqme': array([4]), 'wonpotxqr': array([1]), 'twxeavqq': array([3, 1, 3, 3]), 'wojrqc': array([6]), 'otjckac': array([1, 1, 2]), 'axewquh': array([5, 5, 5, 6]), 'zdqygvotc': array([2]), 'ccqqzznt': array([4, 5, 3]), 'bxpcacbkk': array([1, 6, 2, 2]), 'fjsbzfet': array([3, 4, 3, 1]), 'lgmjmse': array([], dtype=int64), 'voakuman': array([], dtype=int64), 'cuwkfudzg': array([4, 5, 3]), 'ktkklef': array([3, 2, 3, 1]), 'blqkggld': array([1, 3]), 'xlddanh': array([1, 1, 1]), 'qfgsantrf': array([], dtype=int64), 'yvnfulij': array([], dtype=int64), 'rqhwbaby': array([2]), 'lvncpofg': array([], dtype=int64), 'phftqzbxo': array([6, 6]), 'pyxlnirlo': array([4, 4, 2, 3]), 'goebcwuux': array([6, 1, 4, 3]), 'usfcuagm': array([4, 4, 4, 5]), 'olgzbrlq': array([2, 3, 5]), 'dglbhagrl': array([1, 6, 2, 1]), 'oxhucmen': array([3, 5, 3]), 'zyqznnfhq': array([6, 3, 1]), 'xtqoxl': array([], dtype=int64), 'uzikfs': array([1, 2]), 'wzuzcol': array([1, 1, 2, 3]), 'cgpgol': array([], dtype=int64), 'gnsjumg': array([5, 4, 3]), 'efignbqw': array([5, 5]), 'jqwezqd': array([1, 4, 3]), 'vsqkwkl': array([2, 1]), 'pxdrqrs': array([2, 5, 3]), 'tzujefc': array([2]), 'tkaucnkbj': array([1, 6, 4, 5]), 'bzyuqb': array([2, 6, 2, 1]), 'qiuwybly': array([4, 3]), 'hubcpepc': array([6, 2, 1, 5]), 'erpmbx': array([3, 4]), 'hvrquk': array([2]), 'ocamxop': array([3, 2, 4]), 'vwoaxmxw': array([2]), 'cqzgsc': array([2]), 'bxwlkbfiy': array([5]), 'fnauninl': array([5, 4, 5, 4]), 'ivigfg': array([1]), 'imvsuh': array([2]), 'ayptyog': array([4, 6]), 'zovocm': array([5, 1, 4]), 'zismnmwl': array([5, 5, 5]), 'trkulkk': array([], dtype=int64), 'fcxnzgexk': array([3, 5]), 'joylgiys': array([4, 1, 3]), 'fwweqpqo': array([4]), 'mzcnwxhom': array([3, 1, 2]), 'pflbwegcv': array([5, 2, 3]), 'lbmwinmsm': array([2, 6]), 'wnkrjip': array([4, 3, 4, 2]), 'dcgjui': array([6, 1, 6, 4]), 'xoeabm': array([4, 6, 2, 2]), 'nvyevjzfy': array([1, 4, 4, 1]), 'wzbzgfj': array([1, 2, 1, 6]), 'cejgxb': array([1]), 'dwhfzxep': array([4, 1, 1, 4]), 'ugslgryz': array([2, 5, 4]), 'dmkzocox': array([1]), 'gpqetw': array([6, 1, 1]), 'kpiokl': array([2, 1, 5]), 'ibhqiy': array([2, 2, 4]), 'hwjacorni': array([], dtype=int64), 'ilarxr': array([4, 6, 5, 1]), 'ndxutzne': array([1, 1]), 'xvcjwems': array([1, 5, 4, 4]), 'uevmeh': array([3, 1, 6]), 'yqnngfza': array([4, 4]), 'jprcwdwyo': array([4]), 'jaasjmfwq': array([6, 2, 1]), 'cbnuoiyhg': array([], dtype=int64), 'myghou': array([], dtype=int64), 'kytfsmyro': array([4, 1]), 'ceifixwe': array([1, 6]), 'dafpsaz': array([5, 2]), 'wldavnyh': array([], dtype=int64), 'gbfxap': array([1]), 'faahcli': array([3, 1, 3, 5]), 'gcpscjzdo': array([5, 3]), 'hrmmhudpv': array([5]), 'zlmhyiyo': array([], dtype=int64), 'exnued': array([1, 2]), 'vsxhrjz': array([1]), 'zkyysjhq': array([5, 2, 2]), 'ikqugy': array([3, 4, 5, 5]), 'qpxcoj': array([4]), 'bqgudmnr': array([3]), 'fcxlhl': array([], dtype=int64), 'awtciqy': array([2, 3, 6, 4]), 'ljytxhfs': array([], dtype=int64), 'uxhgtudwx': array([5, 4]), 'zmonlben': array([2, 4]), 'sqgcny': array([], dtype=int64), 'uvxgnzamo': array([2, 5, 2, 1]), 'pfiamrll': array([6, 5, 3, 4]), 'viwblau': array([], dtype=int64), 'gmwbcf': array([4, 4, 5]), 'dfswtu': array([4]), 'tubkgtgu': array([], dtype=int64), 'dqnyfej': array([5, 4, 2]), 'mchriunje': array([5, 5, 4]), 'gvoihj': array([3, 1, 2]), 'zhrwdsr': array([1]), 'wcubxboc': array([3]), 'bnzzmzram': array([4, 2, 6, 3]), 'yjaqqiwni': array([1]), 'qfalppgcz': array([], dtype=int64), 'ewtbsc': array([], dtype=int64), 'mracdnu': array([6]), 'ijnmogx': array([], dtype=int64), 'ifmhglva': array([5, 3]), 'elnyvthx': array([1]), 'tmupepddi': array([1, 2, 5]), 'wmnhgx': array([], dtype=int64), 'ibondl': array([4, 5, 2]), 'oglqkve': array([3, 1, 1]), 'iuiwwylnw': array([4, 4]), 'tykedkwqi': array([2, 3, 4, 5]), 'kfqwjibb': array([4, 4, 2, 3]), 'svgzwusb': array([1]), 'feqifngk': array([3, 5, 1, 2]), 'voovpw': array([5, 3, 6, 5]), 'kydwiegjd': array([6]), 'bzgnpg': array([3, 5, 2, 3]), 'xtqmdkjtx': array([], dtype=int64), 'rayjcl': array([4, 4, 4, 3]), 'fcuqid': array([], dtype=int64), 'mopwzytpw': array([], dtype=int64), 'wuatvxq': array([5, 4]), 'iqigad': array([5, 4, 3]), 'dwwracou': array([6]), 'uenbhefw': array([2]), 'huvroau': array([6]), 'hfjesx': array([1, 2, 2]), 'urctlq': array([4]), 'jhsfnapsi': array([1, 1, 6, 3]), 'veclspun': array([1]), 'wnvzaxjc': array([5]), 'osmqpcud': array([5, 1, 6]), 'ssgnhh': array([], dtype=int64), 'liawbxe': array([5, 6]), 'mfhoogo': array([5, 5]), 'rlfork': array([5, 2]), 'xxirnzd': array([2, 2, 4, 3]), 'smsznvcku': array([1, 4, 5]), 'brbefu': array([3, 4, 2]), 'dbplpy': array([5, 2, 4, 1]), 'funiksk': array([1, 6, 5, 1]), 'pjborxnhl': array([3, 4, 4, 5]), 'grbckc': array([], dtype=int64), 'yudjzlm': array([5, 4, 5, 3]), 'qwsdygb': array([5, 5]), 'cruoop': array([], dtype=int64), 'plcbuvpjn': array([3]), 'qlfozqb': array([], dtype=int64), 'awrcqgr': array([5]), 'lrawgo': array([5, 3, 5]), 'gzmqhtxqr': array([1]), 'jrhnvi': array([1, 2, 4, 4]), 'hijlmpbu': array([3]), 'mwcjqj': array([4, 3]), 'tpoeyhk': array([2, 3, 3, 6]), 'hohycbw': array([2]), 'gyyvnu': array([2, 1]), 'ikekpjt': array([3]), 'tpggceujq': array([2, 2, 1, 3]), 'zgooopcxz': array([], dtype=int64), 'obwatl': array([4, 2, 4]), 'vchedpxk': array([], dtype=int64), 'vramgnjv': array([6]), 'mmvuhn': array([1, 4, 4]), 'pqaydpw': array([6, 4, 6]), 'ewxyqe': array([2, 2]), 'cuoicke': array([5, 2, 1, 6]), 'swoxjwa': array([2, 1]), 'emvnznuvs': array([4]), 'qlyvcqmjs': array([1, 5, 1, 4]), 'umztqie': array([2, 4]), 'avonuv': array([2, 4, 2]), 'qrgabkl': array([], dtype=int64), 'tifazx': array([], dtype=int64), 'xepdbc': array([5, 4, 4]), 'hideyap': array([5]), 'xxuitm': array([], dtype=int64), 'kfqevjb': array([2, 3]), 'wwrvim': array([4]), 'sgqbkt': array([5, 3]), 'dvlpdcqw': array([3]), 'qahsbl': array([], dtype=int64), 'ojywfsx': array([], dtype=int64), 'otvwhz': array([], dtype=int64), 'lcmqprhli': array([1, 5]), 'zoqjxh': array([], dtype=int64), 'rrlzqcymf': array([4, 5]), 'zdjpyy': array([], dtype=int64), 'shyzuwnlv': array([2]), 'isstpbrhr': array([3, 5, 3, 4]), 'hapwlrv': array([5, 5]), 'fqdzxjbf': array([4, 2, 4, 5]), 'jtrvjpg': array([3, 6, 6, 5]), 'riduxjbo': array([6, 2, 3]), 'gzkqnf': array([3, 2, 3, 1]), 'zwchequg': array([], dtype=int64), 'pcwnvn': array([1, 4, 5]), 'neqrxdumr': array([4, 4]), 'uzgqqfyoe': array([], dtype=int64), 'kybnpzd': array([], dtype=int64), 'iorhprt': array([], dtype=int64), 'xudjju': array([6, 3]), 'ilydcnem': array([5, 4, 6]), 'qmmssfzc': array([4, 1, 5, 4]), 'fkhgpxfb': array([2, 2]), 'cheeas': array([2]), 'mjjtklv': array([2]), 'ipqgan': array([6, 6]), 'szndshfe': array([5, 6]), 'wxkkhjgz': array([3, 2, 3, 1]), 'nmbytl': array([6, 3, 3, 3]), 'axtacoae': array([], dtype=int64), 'xzzvbv': array([3, 2]), 'sunbucpuy': array([], dtype=int64), 'nehknonfz': array([3, 2]), 'wwxnafel': array([2]), 'diyerp': array([3, 2, 3, 3]), 'ophhld': array([6, 3]), 'jiufpuyhe': array([], dtype=int64), 'vgymqrb': array([3, 5]), 'zzbknueh': array([1, 1, 1, 2]), 'cnppzyr': array([], dtype=int64), 'crrcycywh': array([5, 5, 4, 2]), 'qqmpcrpy': array([6, 2]), 'jdiltwjt': array([], dtype=int64), 'gkkkhv': array([5, 3]), 'jguwsnpol': array([3]), 'ewkdega': array([], dtype=int64), 'dunrvev': array([3]), 'jgjmlx': array([5, 3]), 'lhjwsoxv': array([], dtype=int64), 'ggaeydof': array([3]), 'nhvxuzew': array([], dtype=int64), 'yffptn': array([1, 6, 5, 5]), 'oysnimt': array([6, 2]), 'sdplgrju': array([], dtype=int64), 'mqicaahe': array([6, 3, 2, 4]), 'skpltvwhk': array([2]), 'usuxye': array([6, 5, 3, 4]), 'kiujub': array([6, 4, 5, 2]), 'oenimmi': array([2, 1]), 'exxqwlex': array([4, 3, 6]), 'pqejevo': array([], dtype=int64), 'jflrth': array([6]), 'hujvysl': array([6, 4, 1, 2]), 'domtuw': array([5]), 'qdofein': array([2, 1]), 'bnfsef': array([1, 5, 6, 6]), 'mcorxxiuo': array([1, 5, 6]), 'dpzfcsxdt': array([2, 3, 1, 5]), 'xccdgy': array([1, 1]), 'iivydnvx': array([4, 4, 3, 6]), 'fxjuaffc': array([], dtype=int64), 'cbnupjt': array([], dtype=int64), 'ovjqqbjkz': array([5, 1, 5, 1]), 'nvxbmh': array([1]), 'ylenyibll': array([], dtype=int64), 'gdturlwo': array([1]), 'pywnfue': array([], dtype=int64), 'jatpcqfkt': array([3, 3]), 'pamtzdqbp': array([5]), 'eyozbe': array([], dtype=int64), 'mqahco': array([], dtype=int64), 'peepxfd': array([2, 2, 1]), 'efhkejha': array([1, 3, 6, 3]), 'ccrndhubl': array([1, 4, 2, 1]), 'fgndwejpb': array([], dtype=int64), 'zkorzvd': array([5, 6, 5]), 'wzfkfrvr': array([1, 1, 6, 6]), 'fbllnpf': array([3, 5, 4]), 'zkitmt': array([3, 4, 3]), 'hzvkywic': array([1]), 'bngqbi': array([2, 1]), 'lbbtdw': array([4, 1, 4, 5]), 'lhaguhx': array([3, 5, 6, 5]), 'tlbfykiq': array([2, 6, 4, 4]), 'ymskwbdek': array([4, 6, 5]), 'zbmfgk': array([3, 5, 3]), 'wfjodff': array([], dtype=int64), 'snpzeztv': array([3, 6]), 'eqvjwsrmu': array([1]), 'ariscpjxw': array([6, 5, 5]), 'psuyus': array([], dtype=int64), 'nwhtauyx': array([2, 6, 2, 6]), 'vppiucefb': array([3, 1, 3, 4]), 'rzvpkftqk': array([2, 4, 1, 2]), 'ppbsamb': array([2]), 'sckgvd': array([], dtype=int64), 'zacyii': array([6]), 'itmqksghq': array([5, 5]), 'fvvlljk': array([1, 5, 1]), 'suqnvayp': array([5, 4, 3]), 'dooaaep': array([3, 2, 2, 1]), 'wugtrul': array([1]), 'lglymslj': array([5]), 'dqpwkismq': array([3, 3, 3, 6]), 'veilqgm': array([], dtype=int64), 'dgmomcnfx': array([1]), 'rlhbmmduh': array([2, 5, 1]), 'rngmjejg': array([3]), 'pjieovn': array([], dtype=int64), 'nwnnoajf': array([2, 6, 3, 3]), 'zupybfirp': array([6, 5]), 'lqlrgdijr': array([5, 4, 5]), 'pdkyhk': array([5, 5, 4]), 'zkvyzvnw': array([6]), 'vphnsstdy': array([1, 1, 3, 3]), 'avxnwlp': array([6, 6, 6]), 'mkfalth': array([], dtype=int64), 'ssfgatfs': array([1, 3, 6]), 'mkvcrml': array([], dtype=int64), 'xxysio': array([6]), 'cvhhfiz': array([1, 4, 3]), 'vhlxqtt': array([2]), 'mjxqzqh': array([3, 6, 4]), 'eaqmqpvra': array([6, 5]), 'ljixcda': array([2, 2, 4, 6]), 'yoyaeu': array([2, 1, 6, 6]), 'ddnintlug': array([], dtype=int64), 'ydoxoe': array([3, 3, 4, 1]), 'shcaqtmxi': array([4, 5]), 'yylkjh': array([2, 6, 1]), 'bxzspxflb': array([], dtype=int64), 'rmtychhyy': array([], dtype=int64), 'wtkonye': array([2]), 'gkwqqwuvd': array([], dtype=int64), 'twawhvmkg': array([1]), 'cuvtncbz': array([1, 5, 6, 5]), 'fzexwtonu': array([], dtype=int64), 'psabxf': array([6, 1, 3, 6]), 'sqbogcu': array([5, 6, 6, 1]), 'nxaljbha': array([6, 2]), 'kldwab': array([], dtype=int64), 'cxlbyw': array([], dtype=int64), 'ipkhpufcq': array([2, 3, 6, 1]), 'vjlxhxga': array([3, 1]), 'bzeqacuxq': array([4, 5, 1, 2]), 'hbxfysou': array([3]), 'ijsqnrtzh': array([2]), 'fhaqqu': array([4]), 'xmpooqr': array([4, 5, 2, 3]), 'qfjkpdql': array([6]), 'cjbbgukek': array([2, 2, 2]), 'rhyazyff': array([], dtype=int64), 'esckqbnyj': array([1, 3, 5, 3]), 'qmuktp': array([], dtype=int64), 'oahlux': array([3, 4, 6]), 'egohqypd': array([5, 3, 3]), 'lugdkt': array([6, 3]), 'wgoruoys': array([3, 4, 2, 5]), 'rrrarcpo': array([3, 3, 4]), 'wjhkzllf': array([3, 6, 1]), 'ylqsevq': array([3, 4, 2, 2]), 'raisglyb': array([], dtype=int64), 'zroycui': array([1, 5]), 'qajyuztkg': array([2, 6, 3, 2]), 'aotberl': array([], dtype=int64), 'lpfltg': array([], dtype=int64), 'dtxoawl': array([4, 2, 1, 5]), 'xucuvoxtm': array([5, 5, 3, 1]), 'akdwvvnjq': array([3, 6, 4]), 'xvernhb': array([], dtype=int64), 'yfqublhpo': array([], dtype=int64), 'swojmrs': array([], dtype=int64), 'gfezrk': array([5, 6, 4, 3]), 'igrfwqwm': array([2, 3, 1, 5]), 'wihtjlv': array([4, 2, 4, 1]), 'kkpxzyyoz': array([5, 3]), 'rmanrnpo': array([3]), 'mcqbrjedd': array([6]), 'alvkros': array([5]), 'niotka': array([6, 5]), 'fnuuszef': array([1, 6, 6]), 'dzkfogsb': array([5]), 'xnbsdhzs': array([3, 4]), 'evyrtr': array([3]), 'kcuwmzf': array([], dtype=int64)}\n"
          ],
          "name": "stdout"
        }
      ]
    },
    {
      "cell_type": "code",
      "metadata": {
        "id": "T4EusiccLopY",
        "colab_type": "code",
        "colab": {}
      },
      "source": [
        "teacher_names=time_slots.keys()"
      ],
      "execution_count": 313,
      "outputs": []
    },
    {
      "cell_type": "code",
      "metadata": {
        "id": "Z9lMt8mwME-o",
        "colab_type": "code",
        "colab": {}
      },
      "source": [
        "teacher_ratings={}\n",
        "for i in teacher_names:\n",
        "  teacher_ratings[i]=list(np.random.randint(1,6,1))[0]"
      ],
      "execution_count": 314,
      "outputs": []
    },
    {
      "cell_type": "code",
      "metadata": {
        "id": "3XGK0-elMooD",
        "colab_type": "code",
        "colab": {}
      },
      "source": [
        "ratings_by_teacher= {} \n",
        "for key, value in teacher_ratings.items(): \n",
        "   if value in ratings_by_teacher: \n",
        "       ratings_by_teacher[value].append(key) \n",
        "   else: \n",
        "       ratings_by_teacher[value]=[key] \n",
        "  "
      ],
      "execution_count": 315,
      "outputs": []
    },
    {
      "cell_type": "code",
      "metadata": {
        "id": "JDtMrG9pNsxE",
        "colab_type": "code",
        "colab": {}
      },
      "source": [
        "#d={**time_slots,**teacher_ratings}"
      ],
      "execution_count": 55,
      "outputs": []
    },
    {
      "cell_type": "code",
      "metadata": {
        "id": "_AGBsMCqmsfe",
        "colab_type": "code",
        "colab": {}
      },
      "source": [
        ""
      ],
      "execution_count": 55,
      "outputs": []
    },
    {
      "cell_type": "code",
      "metadata": {
        "id": "f5sJzJFHQ4u8",
        "colab_type": "code",
        "colab": {}
      },
      "source": [
        "import pandas as pd\n",
        "df=pd.DataFrame(index=teacher_names)\n",
        "df.index.names=['Teacher_Names']\n",
        "\n",
        "df['Teacher_Ratings']=teacher_ratings.values()\n",
        "df['Available_time_slots']=time_slots.values()"
      ],
      "execution_count": 316,
      "outputs": []
    },
    {
      "cell_type": "code",
      "metadata": {
        "id": "A51-f6hoJB_f",
        "colab_type": "code",
        "colab": {
          "base_uri": "https://localhost:8080/",
          "height": 431
        },
        "outputId": "5c3fa779-3340-4965-a0cb-4a6b678a1135"
      },
      "source": [
        "df"
      ],
      "execution_count": 317,
      "outputs": [
        {
          "output_type": "execute_result",
          "data": {
            "text/html": [
              "<div>\n",
              "<style scoped>\n",
              "    .dataframe tbody tr th:only-of-type {\n",
              "        vertical-align: middle;\n",
              "    }\n",
              "\n",
              "    .dataframe tbody tr th {\n",
              "        vertical-align: top;\n",
              "    }\n",
              "\n",
              "    .dataframe thead th {\n",
              "        text-align: right;\n",
              "    }\n",
              "</style>\n",
              "<table border=\"1\" class=\"dataframe\">\n",
              "  <thead>\n",
              "    <tr style=\"text-align: right;\">\n",
              "      <th></th>\n",
              "      <th>Teacher_Ratings</th>\n",
              "      <th>Available_time_slots</th>\n",
              "    </tr>\n",
              "    <tr>\n",
              "      <th>Teacher_Names</th>\n",
              "      <th></th>\n",
              "      <th></th>\n",
              "    </tr>\n",
              "  </thead>\n",
              "  <tbody>\n",
              "    <tr>\n",
              "      <th>zruedkye</th>\n",
              "      <td>2</td>\n",
              "      <td>[5, 2, 1]</td>\n",
              "    </tr>\n",
              "    <tr>\n",
              "      <th>qrbktn</th>\n",
              "      <td>2</td>\n",
              "      <td>[5, 6, 2]</td>\n",
              "    </tr>\n",
              "    <tr>\n",
              "      <th>yqvghfkby</th>\n",
              "      <td>4</td>\n",
              "      <td>[2]</td>\n",
              "    </tr>\n",
              "    <tr>\n",
              "      <th>tolenjva</th>\n",
              "      <td>1</td>\n",
              "      <td>[]</td>\n",
              "    </tr>\n",
              "    <tr>\n",
              "      <th>yrtfkjw</th>\n",
              "      <td>1</td>\n",
              "      <td>[4, 5, 2, 3]</td>\n",
              "    </tr>\n",
              "    <tr>\n",
              "      <th>...</th>\n",
              "      <td>...</td>\n",
              "      <td>...</td>\n",
              "    </tr>\n",
              "    <tr>\n",
              "      <th>fnuuszef</th>\n",
              "      <td>4</td>\n",
              "      <td>[1, 6, 6]</td>\n",
              "    </tr>\n",
              "    <tr>\n",
              "      <th>dzkfogsb</th>\n",
              "      <td>5</td>\n",
              "      <td>[5]</td>\n",
              "    </tr>\n",
              "    <tr>\n",
              "      <th>xnbsdhzs</th>\n",
              "      <td>4</td>\n",
              "      <td>[3, 4]</td>\n",
              "    </tr>\n",
              "    <tr>\n",
              "      <th>evyrtr</th>\n",
              "      <td>1</td>\n",
              "      <td>[3]</td>\n",
              "    </tr>\n",
              "    <tr>\n",
              "      <th>kcuwmzf</th>\n",
              "      <td>3</td>\n",
              "      <td>[]</td>\n",
              "    </tr>\n",
              "  </tbody>\n",
              "</table>\n",
              "<p>700 rows × 2 columns</p>\n",
              "</div>"
            ],
            "text/plain": [
              "               Teacher_Ratings Available_time_slots\n",
              "Teacher_Names                                      \n",
              "zruedkye                     2            [5, 2, 1]\n",
              "qrbktn                       2            [5, 6, 2]\n",
              "yqvghfkby                    4                  [2]\n",
              "tolenjva                     1                   []\n",
              "yrtfkjw                      1         [4, 5, 2, 3]\n",
              "...                        ...                  ...\n",
              "fnuuszef                     4            [1, 6, 6]\n",
              "dzkfogsb                     5                  [5]\n",
              "xnbsdhzs                     4               [3, 4]\n",
              "evyrtr                       1                  [3]\n",
              "kcuwmzf                      3                   []\n",
              "\n",
              "[700 rows x 2 columns]"
            ]
          },
          "metadata": {
            "tags": []
          },
          "execution_count": 317
        }
      ]
    },
    {
      "cell_type": "markdown",
      "metadata": {
        "id": "sV4VHZU-xWv7",
        "colab_type": "text"
      },
      "source": [
        ""
      ]
    },
    {
      "cell_type": "code",
      "metadata": {
        "id": "vw0VrdJRSIKN",
        "colab_type": "code",
        "colab": {}
      },
      "source": [
        "df.to_csv(\"/teacher_availablity.csv\")\n"
      ],
      "execution_count": 320,
      "outputs": []
    },
    {
      "cell_type": "code",
      "metadata": {
        "id": "qI1abEn6Sk89",
        "colab_type": "code",
        "colab": {}
      },
      "source": [
        ""
      ],
      "execution_count": 57,
      "outputs": []
    },
    {
      "cell_type": "code",
      "metadata": {
        "id": "0UgMD0Rplhpy",
        "colab_type": "code",
        "colab": {}
      },
      "source": [
        ""
      ],
      "execution_count": 57,
      "outputs": []
    },
    {
      "cell_type": "code",
      "metadata": {
        "id": "I848wq9TWH6M",
        "colab_type": "code",
        "colab": {}
      },
      "source": [
        "def read_data():\n",
        "  df=pd.read_csv(\"/teacher_availablity.csv\")\n",
        "  teacher_names=df['Teacher_Names']\n",
        "\n",
        "\n",
        "  teacher_ratings = dict(zip(teacher_names, df['Teacher_Ratings'].values))\n",
        "  \n",
        "\n",
        "  ratings_by_teacher= {} \n",
        "  for key, value in teacher_ratings.items(): \n",
        "    if value in ratings_by_teacher: \n",
        "        ratings_by_teacher[value].append(key) \n",
        "    else: \n",
        "        ratings_by_teacher[value]=[key]\n",
        "  test_st=[]\n",
        "\n",
        "  for i in df['Available_time_slots'].values:\n",
        "    try:\n",
        "      strk=(i[1:len(i)-1]).split()\n",
        "      test_st.append(list(map(int, strk))) \n",
        "    except TypeError:\n",
        "      strk=[i]\n",
        "      test_st.append(strk)\n",
        "    \n",
        "  df['Available_time_slots']=test_st\n",
        "\n",
        "\n",
        "\n",
        "  time_slots = dict(zip(teacher_names, df['Available_time_slots'].values))\n",
        "   \n",
        "  return teacher_names,teacher_ratings,ratings_by_teacher,time_slots\n",
        "\n",
        "  \n",
        "  "
      ],
      "execution_count": 321,
      "outputs": []
    },
    {
      "cell_type": "code",
      "metadata": {
        "id": "TXNGyACYJpfP",
        "colab_type": "code",
        "colab": {
          "base_uri": "https://localhost:8080/",
          "height": 34
        },
        "outputId": "98216b22-ad9d-4cf9-ec83-cdc621c3a138"
      },
      "source": [
        "time_slots.values"
      ],
      "execution_count": 322,
      "outputs": [
        {
          "output_type": "execute_result",
          "data": {
            "text/plain": [
              "<function dict.values>"
            ]
          },
          "metadata": {
            "tags": []
          },
          "execution_count": 322
        }
      ]
    },
    {
      "cell_type": "code",
      "metadata": {
        "id": "1VjcVHCCYI_d",
        "colab_type": "code",
        "colab": {}
      },
      "source": [
        "import tqdm\n",
        "def book_time_slot():\n",
        "  #print(\"Available Slots :\")\n",
        "  #for i in tqdm(range(1,7)):\n",
        "    #print(\"{} \"\"(datetime.now()).date())\n",
        "  print(\"ENTER THE TIME SLOT YOU WANT TO BOOK :\")\n",
        "  \n",
        "  time_book=input(\" {} \".format((datetime.now()).date()))\n",
        "  \n",
        "  \n",
        "  return int(time_book)"
      ],
      "execution_count": 346,
      "outputs": []
    },
    {
      "cell_type": "code",
      "metadata": {
        "id": "YueWuvObUPBt",
        "colab_type": "code",
        "colab": {
          "base_uri": "https://localhost:8080/",
          "height": 34
        },
        "outputId": "51079d68-0c58-4c24-d4d7-3f939f746b9c"
      },
      "source": [
        ""
      ],
      "execution_count": 133,
      "outputs": [
        {
          "output_type": "execute_result",
          "data": {
            "text/plain": [
              "datetime.datetime(2020, 8, 8, 15, 30)"
            ]
          },
          "metadata": {
            "tags": []
          },
          "execution_count": 133
        }
      ]
    },
    {
      "cell_type": "code",
      "metadata": {
        "id": "FmiGA6OpkKDL",
        "colab_type": "code",
        "colab": {}
      },
      "source": [
        "def closest(lst, K): \n",
        "    if(len(lst)>0):\n",
        "      \n",
        "      return lst[min(range(len(lst)), key = lambda i: abs(lst[i]-K))]\n",
        "    else:\n",
        "      return 0 "
      ],
      "execution_count": 330,
      "outputs": []
    },
    {
      "cell_type": "code",
      "metadata": {
        "id": "iCSlgck0bZps",
        "colab_type": "code",
        "colab": {}
      },
      "source": [
        "from datetime import datetime\n",
        "def search_time_slots(time_book):\n",
        "  abouts=['{} is a excellent in algebra and has completed major in mathematics from Top University',\n",
        "  '{} has expreince of 3 years in teaching maths to students' ,' {} has taught more than 100 students, helped them achieve excellent mathematical skills']\n",
        "  epochs=4\n",
        "  while(epochs>0):\n",
        "    for teacher in  ratings_by_teacher[epochs]:  \n",
        "      available_time_slots=list(time_slots[teacher])\n",
        "      \n",
        "      nearest_time=closest(available_time_slots,time_book)\n",
        "      if (abs(nearest_time-time_book)<1):\n",
        "        print(\"Would you like to book demo with {} with rating {}/5 at {} {} PM time\".format(teacher,epochs,(datetime.now()).date(),nearest_time))\n",
        "        print(\"About out teacher {} \".format(teacher))\n",
        "        print(random.choice(abouts).format(teacher))\n",
        "        print(\"yes or no\")\n",
        "        confirm=input()\n",
        "        \n",
        "        if (confirm == 'yes'):\n",
        "          \n",
        "          print(\"Congratulations Your demo is booked with {} at time {} {} PM \".format(teacher,(datetime.now()).date(),nearest_time))\n",
        "          available_time_slots=[(set(available_time_slots).discard(nearest_time))]\n",
        "         \n",
        "          df.loc[df.index== teacher, 'Available_time_slots']=list(available_time_slots)\n",
        "          print(\"Our teacher will be waiting for you :)\")\n",
        "          save_the_file(df)\n",
        "          print(\"Thanks For choosing Cuemath\")\n",
        "          epochs=0\n",
        "          break\n",
        "        \n",
        "        else :\n",
        "          \n",
        "          pass\n",
        "      else:\n",
        "        pass\n",
        "    epochs-=1\n",
        "      \n"
      ],
      "execution_count": 351,
      "outputs": []
    },
    {
      "cell_type": "code",
      "metadata": {
        "id": "DqQ47jJH0dMf",
        "colab_type": "code",
        "colab": {}
      },
      "source": [
        "def save_the_file(df):\n",
        "  import os\n",
        "  try:\n",
        "    os.remove(\"teacher_availablity.csv\")\n",
        "  except FileNotFoundError:\n",
        "    pass\n",
        "  os.chdir(\"/\")\n",
        "  df.to_csv(\"teacher_availablity.csv\")\n",
        "\n"
      ],
      "execution_count": 333,
      "outputs": []
    },
    {
      "cell_type": "code",
      "metadata": {
        "id": "PYOxXOLihRbd",
        "colab_type": "code",
        "colab": {}
      },
      "source": [
        "def conf_time_slot():\n",
        "  time_book=book_time_slot()\n",
        "  search_time_slots(time_book)"
      ],
      "execution_count": 334,
      "outputs": []
    },
    {
      "cell_type": "markdown",
      "metadata": {
        "id": "7Am4sZXdhqvQ",
        "colab_type": "text"
      },
      "source": [
        ""
      ]
    },
    {
      "cell_type": "code",
      "metadata": {
        "id": "XDf6wtfWhmVa",
        "colab_type": "code",
        "colab": {
          "base_uri": "https://localhost:8080/",
          "height": 185
        },
        "outputId": "b6bc3534-5f44-4e3e-cf61-d96b54dbb625"
      },
      "source": [
        "\n",
        "import pandas as pd\n",
        "\n",
        "import numpy as np\n",
        "\n",
        "teacher_names,teacher_ratings,ratings_by_teacher,time_slots=read_data()\n",
        "conf_time_slot()\n"
      ],
      "execution_count": 352,
      "outputs": [
        {
          "output_type": "stream",
          "text": [
            "ENTER THE TIME SLOT YOU WANT TO BOOK :\n",
            " 2020-08-08 5\n",
            "Would you like to book demo with zsenhsz with rating 4/5 at 2020-08-08 5 PM time\n",
            "About out teacher zsenhsz \n",
            "zsenhsz is a excellent in algebra and has completed major in mathematics from Top University\n",
            "yes or no\n",
            "yes\n",
            "Congratulations Your demo is booked with zsenhsz at time 2020-08-08 5 PM \n",
            "Our teacher will be waiting for you :)\n",
            "Thanks For choosing Cuemath\n"
          ],
          "name": "stdout"
        }
      ]
    },
    {
      "cell_type": "code",
      "metadata": {
        "id": "ozRct6oq9KIB",
        "colab_type": "code",
        "colab": {
          "base_uri": "https://localhost:8080/",
          "height": 431
        },
        "outputId": "b6db271f-ca2c-4fd1-ab1d-cc6c70152fec"
      },
      "source": [
        ""
      ],
      "execution_count": 67,
      "outputs": [
        {
          "output_type": "execute_result",
          "data": {
            "text/html": [
              "<div>\n",
              "<style scoped>\n",
              "    .dataframe tbody tr th:only-of-type {\n",
              "        vertical-align: middle;\n",
              "    }\n",
              "\n",
              "    .dataframe tbody tr th {\n",
              "        vertical-align: top;\n",
              "    }\n",
              "\n",
              "    .dataframe thead th {\n",
              "        text-align: right;\n",
              "    }\n",
              "</style>\n",
              "<table border=\"1\" class=\"dataframe\">\n",
              "  <thead>\n",
              "    <tr style=\"text-align: right;\">\n",
              "      <th></th>\n",
              "      <th>Teacher_Ratings</th>\n",
              "      <th>Available_time_slots</th>\n",
              "    </tr>\n",
              "    <tr>\n",
              "      <th>Teacher_Names</th>\n",
              "      <th></th>\n",
              "      <th></th>\n",
              "    </tr>\n",
              "  </thead>\n",
              "  <tbody>\n",
              "    <tr>\n",
              "      <th>ckerrk</th>\n",
              "      <td>4</td>\n",
              "      <td>[2, 1, 3]</td>\n",
              "    </tr>\n",
              "    <tr>\n",
              "      <th>bwmzkeu</th>\n",
              "      <td>1</td>\n",
              "      <td>[6, 5, 3]</td>\n",
              "    </tr>\n",
              "    <tr>\n",
              "      <th>vzjhzqg</th>\n",
              "      <td>3</td>\n",
              "      <td>[]</td>\n",
              "    </tr>\n",
              "    <tr>\n",
              "      <th>uoaeju</th>\n",
              "      <td>2</td>\n",
              "      <td>[2, 2, 3]</td>\n",
              "    </tr>\n",
              "    <tr>\n",
              "      <th>ogoatpzl</th>\n",
              "      <td>3</td>\n",
              "      <td>[1, 3, 1, 1]</td>\n",
              "    </tr>\n",
              "    <tr>\n",
              "      <th>...</th>\n",
              "      <td>...</td>\n",
              "      <td>...</td>\n",
              "    </tr>\n",
              "    <tr>\n",
              "      <th>jfvzhzwn</th>\n",
              "      <td>1</td>\n",
              "      <td>[]</td>\n",
              "    </tr>\n",
              "    <tr>\n",
              "      <th>edeayshc</th>\n",
              "      <td>3</td>\n",
              "      <td>[6, 1, 4, 5]</td>\n",
              "    </tr>\n",
              "    <tr>\n",
              "      <th>tfzqtk</th>\n",
              "      <td>2</td>\n",
              "      <td>[1, 3, 6]</td>\n",
              "    </tr>\n",
              "    <tr>\n",
              "      <th>jgoyhgk</th>\n",
              "      <td>4</td>\n",
              "      <td>[5, 4, 5, 5]</td>\n",
              "    </tr>\n",
              "    <tr>\n",
              "      <th>eoepzvsfs</th>\n",
              "      <td>5</td>\n",
              "      <td>[2]</td>\n",
              "    </tr>\n",
              "  </tbody>\n",
              "</table>\n",
              "<p>700 rows × 2 columns</p>\n",
              "</div>"
            ],
            "text/plain": [
              "               Teacher_Ratings Available_time_slots\n",
              "Teacher_Names                                      \n",
              "ckerrk                       4            [2, 1, 3]\n",
              "bwmzkeu                      1            [6, 5, 3]\n",
              "vzjhzqg                      3                   []\n",
              "uoaeju                       2            [2, 2, 3]\n",
              "ogoatpzl                     3         [1, 3, 1, 1]\n",
              "...                        ...                  ...\n",
              "jfvzhzwn                     1                   []\n",
              "edeayshc                     3         [6, 1, 4, 5]\n",
              "tfzqtk                       2            [1, 3, 6]\n",
              "jgoyhgk                      4         [5, 4, 5, 5]\n",
              "eoepzvsfs                    5                  [2]\n",
              "\n",
              "[700 rows x 2 columns]"
            ]
          },
          "metadata": {
            "tags": []
          },
          "execution_count": 67
        }
      ]
    },
    {
      "cell_type": "code",
      "metadata": {
        "id": "MnmiXoZOsFSg",
        "colab_type": "code",
        "colab": {
          "base_uri": "https://localhost:8080/",
          "height": 77
        },
        "outputId": "a0c3e090-85e8-4b8c-cc49-896a31e088c6"
      },
      "source": [
        "df[df.index=='jcflqz']"
      ],
      "execution_count": 65,
      "outputs": [
        {
          "output_type": "execute_result",
          "data": {
            "text/html": [
              "<div>\n",
              "<style scoped>\n",
              "    .dataframe tbody tr th:only-of-type {\n",
              "        vertical-align: middle;\n",
              "    }\n",
              "\n",
              "    .dataframe tbody tr th {\n",
              "        vertical-align: top;\n",
              "    }\n",
              "\n",
              "    .dataframe thead th {\n",
              "        text-align: right;\n",
              "    }\n",
              "</style>\n",
              "<table border=\"1\" class=\"dataframe\">\n",
              "  <thead>\n",
              "    <tr style=\"text-align: right;\">\n",
              "      <th></th>\n",
              "      <th>Teacher_Ratings</th>\n",
              "      <th>Available_time_slots</th>\n",
              "    </tr>\n",
              "    <tr>\n",
              "      <th>Teacher_Names</th>\n",
              "      <th></th>\n",
              "      <th></th>\n",
              "    </tr>\n",
              "  </thead>\n",
              "  <tbody>\n",
              "  </tbody>\n",
              "</table>\n",
              "</div>"
            ],
            "text/plain": [
              "Empty DataFrame\n",
              "Columns: [Teacher_Ratings, Available_time_slots]\n",
              "Index: []"
            ]
          },
          "metadata": {
            "tags": []
          },
          "execution_count": 65
        }
      ]
    }
  ]
}